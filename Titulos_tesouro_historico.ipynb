{
 "cells": [
  {
   "cell_type": "code",
   "execution_count": null,
   "metadata": {},
   "outputs": [],
   "source": [
    "#Importando as bibliotecas\n",
    "import pandas as pd\n",
    "pd.set_option(\"display.max_colwidth\", 150)\n",
    "pd.set_option(\"display.min_rows\", 20)\n",
    "\n",
    "import matplotlib.pyplot as plt\n",
    "import plotly.graph_objects as go\n",
    "import plotly.express as px\n",
    "import yfinance as yf\n",
    "import datetime as dt\n",
    "\n",
    "from matplotlib.ticker import StrMethodFormatter\n",
    "from matplotlib.ticker import FormatStrFormatter\n",
    "\n",
    "#Instalando biblioteca para conectar com API do Teosuro Direto\n",
    "import ssl\n",
    "ssl._create_default_https_context = ssl._create_unverified_context\n",
    "\n",
    "from dataclasses import dataclass"
   ]
  },
  {
   "cell_type": "code",
   "execution_count": null,
   "metadata": {},
   "outputs": [],
   "source": [
    "#Criando função que busca os títulos do tesouro direto \n",
    "def busca_titulos_tesouro_direto():\n",
    "  url = 'https://www.tesourotransparente.gov.br/ckan/dataset/df56aa42-484a-4a59-8184-7676580c81e3/resource/796d2059-14e9-44e3-80c9-2d9e30b405c1/download/PrecoTaxaTesouroDireto.csv'\n",
    "  df  = pd.read_csv(url, sep=';', decimal=',')\n",
    "  df['Data Vencimento'] = pd.to_datetime(df['Data Vencimento'], dayfirst=True)\n",
    "  df['Data Base']       = pd.to_datetime(df['Data Base'], dayfirst=True)\n",
    "  #multi_indice = pd.MultiIndex.from_frame(df.iloc[:, :3])\n",
    "  #df = df.set_index(multi_indice).iloc[: , 3:]  \n",
    "  return df"
   ]
  },
  {
   "cell_type": "code",
   "execution_count": null,
   "metadata": {},
   "outputs": [],
   "source": [
    "#Buscando todos os tiulos negociados pelo tesouro direto\n",
    "titulos = busca_titulos_tesouro_direto()\n",
    "titulos"
   ]
  },
  {
   "cell_type": "code",
   "execution_count": null,
   "metadata": {},
   "outputs": [],
   "source": [
    "#Tipos de titulos negociados\n",
    "tipos_titulos=titulos['Tipo Titulo'].drop_duplicates()\n",
    "tipos_titulos.reset_index(drop=True)"
   ]
  },
  {
   "cell_type": "code",
   "execution_count": null,
   "metadata": {},
   "outputs": [],
   "source": [
    "#Filtrando por títulos do tesouro disponíveis no mercado (Que não venceram)\n",
    "today=pd.datetime.today().strftime(\"%Y-%m-%d\")\n",
    "titulos_nao_vencidos=titulos[titulos['Data Vencimento']>today]\n",
    "titulos_nao_vencidos=titulos_nao_vencidos.sort_values(by=\"Data Base\", ascending=False)\n",
    "titulos_nao_vencidos=titulos_nao_vencidos.drop_duplicates(subset=[\"Data Vencimento\"],keep='first')\n",
    "titulos_nao_vencidos=titulos_nao_vencidos.sort_values(by=\"Tipo Titulo\")\n",
    "titulos_nao_vencidos=titulos_nao_vencidos.reset_index(drop=True)\n",
    "\n",
    "titulos_nao_vencidos"
   ]
  },
  {
   "cell_type": "code",
   "execution_count": null,
   "metadata": {},
   "outputs": [],
   "source": [
    "#Extraindo o histórico de valores dos Titulos publicos\n",
    "multi_indice = pd.MultiIndex.from_frame(titulos.iloc[:, :3])\n",
    "titulos = titulos.set_index(multi_indice).iloc[: , 3:]  "
   ]
  },
  {
   "cell_type": "code",
   "execution_count": null,
   "metadata": {},
   "outputs": [],
   "source": [
    "#Buscando os dados de todos os titulos em negociação\n",
    "#Titulos Pré Fixado \n",
    "pre2023=pd.DataFrame(titulos.loc[('Tesouro Prefixado','2023-01-01')].loc['2021':])[['Taxa Compra Manha','PU Compra Manha']]\n",
    "pre2024=pd.DataFrame(titulos.loc[('Tesouro Prefixado','2024-07-01')].loc['2021':])[['Taxa Compra Manha','PU Compra Manha']]\n",
    "pre2025=pd.DataFrame(titulos.loc[('Tesouro Prefixado','2025-01-01')].loc['2021':])[['Taxa Compra Manha','PU Compra Manha']]\n",
    "pre2026=pd.DataFrame(titulos.loc[('Tesouro Prefixado','2026-01-01')].loc['2021':])[['Taxa Compra Manha','PU Compra Manha']]\n",
    "pre2029=pd.DataFrame(titulos.loc[('Tesouro Prefixado','2029-01-01')].loc['2021':])[['Taxa Compra Manha','PU Compra Manha']]\n",
    "\n",
    "#Titulos Pré Fixado com Cupom\n",
    "pre2023_cupom=pd.DataFrame(titulos.loc[('Tesouro Prefixado com Juros Semestrais','2023-01-01')].loc['2021':])[['Taxa Compra Manha','PU Compra Manha']]\n",
    "pre2025_cupom=pd.DataFrame(titulos.loc[('Tesouro Prefixado com Juros Semestrais','2025-01-01')].loc['2021':])[['Taxa Compra Manha','PU Compra Manha']]\n",
    "pre2027_cupom=pd.DataFrame(titulos.loc[('Tesouro Prefixado com Juros Semestrais','2027-01-01')].loc['2021':])[['Taxa Compra Manha','PU Compra Manha']]\n",
    "pre2029_cupom=pd.DataFrame(titulos.loc[('Tesouro Prefixado com Juros Semestrais','2029-01-01')].loc['2021':])[['Taxa Compra Manha','PU Compra Manha']]\n",
    "pre2031_cupom=pd.DataFrame(titulos.loc[('Tesouro Prefixado com Juros Semestrais','2031-01-01')].loc['2021':])[['Taxa Compra Manha','PU Compra Manha']]\n",
    "pre2033_cupom=pd.DataFrame(titulos.loc[('Tesouro Prefixado com Juros Semestrais','2033-01-01')].loc['2021':])[['Taxa Compra Manha','PU Compra Manha']]\n",
    "\n",
    "#Titulos IPCA+ com Cupom\n",
    "ipca2024_cupom=pd.DataFrame(titulos.loc[('Tesouro IPCA+ com Juros Semestrais','2024-08-15')].loc['2021':])[['Taxa Compra Manha','PU Compra Manha']]\n",
    "ipca2026_cupom=pd.DataFrame(titulos.loc[('Tesouro IPCA+ com Juros Semestrais','2026-08-15')].loc['2021':])[['Taxa Compra Manha','PU Compra Manha']]\n",
    "ipca2030_cupom=pd.DataFrame(titulos.loc[('Tesouro IPCA+ com Juros Semestrais','2030-08-15')].loc['2021':])[['Taxa Compra Manha','PU Compra Manha']]\n",
    "ipca2032_cupom=pd.DataFrame(titulos.loc[('Tesouro IPCA+ com Juros Semestrais','2032-08-15')].loc['2021':])[['Taxa Compra Manha','PU Compra Manha']]\n",
    "ipca2035_cupom=pd.DataFrame(titulos.loc[('Tesouro IPCA+ com Juros Semestrais','2035-05-15')].loc['2021':])[['Taxa Compra Manha','PU Compra Manha']]\n",
    "ipca2040_cupom=pd.DataFrame(titulos.loc[('Tesouro IPCA+ com Juros Semestrais','2040-08-15')].loc['2021':])[['Taxa Compra Manha','PU Compra Manha']]\n",
    "ipca2045_cupom=pd.DataFrame(titulos.loc[('Tesouro IPCA+ com Juros Semestrais','2045-05-15')].loc['2021':])[['Taxa Compra Manha','PU Compra Manha']]\n",
    "ipca2050_cupom=pd.DataFrame(titulos.loc[('Tesouro IPCA+ com Juros Semestrais','2050-08-15')].loc['2021':])[['Taxa Compra Manha','PU Compra Manha']]\n",
    "ipca2055_cupom=pd.DataFrame(titulos.loc[('Tesouro IPCA+ com Juros Semestrais','2055-05-15')].loc['2021':])[['Taxa Compra Manha','PU Compra Manha']]\n",
    "\n",
    "#Titulos IPCA+ \n",
    "ipca2024=pd.DataFrame(titulos.loc[('Tesouro IPCA+ com Juros Semestrais','2024-08-15')].loc['2021':])[['Taxa Compra Manha','PU Compra Manha']]\n",
    "ipca2026=pd.DataFrame(titulos.loc[('Tesouro IPCA+ com Juros Semestrais','2026-08-15')].loc['2021':])[['Taxa Compra Manha','PU Compra Manha']]\n",
    "ipca2035=pd.DataFrame(titulos.loc[('Tesouro IPCA+ com Juros Semestrais','2035-05-15')].loc['2021':])[['Taxa Compra Manha','PU Compra Manha']]\n",
    "ipca2045=pd.DataFrame(titulos.loc[('Tesouro IPCA+ com Juros Semestrais','2045-05-15')].loc['2021':])[['Taxa Compra Manha','PU Compra Manha']]"
   ]
  },
  {
   "cell_type": "code",
   "execution_count": null,
   "metadata": {},
   "outputs": [],
   "source": [
    "#Agrupando os títulos \n",
    "\n",
    "#Titulos Pré Fixado\n",
    "df_pre=pd.merge(pd.merge(pd.merge(pd.merge(pre2023,pre2024,on=\"Data Base\",how=\"left\"),pre2025,on=\"Data Base\",how=\"left\"),pre2026,on=\"Data Base\",how=\"left\"),pre2029,on=\"Data Base\",how=\"left\")\n",
    "df_pre.columns=['Taxa Pre2023','PU Pre2023','Taxa Pre2024','PU Pre2024','Taxa Pre2025','PU Pre2025','Taxa Pre2026','PU Pre2026','Taxa Pre2029','PU Pre2029']\n",
    "df_pre=df_pre.sort_index()\n",
    "df_pre\n",
    "\n",
    "#Titulos Pré Fixado com Cupom\n",
    "df_pre_cupom=pd.merge(pd.merge(pd.merge(pd.merge(pd.merge(pre2023_cupom,pre2025_cupom,on=\"Data Base\",how=\"left\"),pre2027_cupom,on=\"Data Base\",how=\"left\"),pre2029_cupom,on=\"Data Base\",how=\"left\"),pre2031_cupom,on=\"Data Base\",how=\"left\"),pre2033_cupom,on=\"Data Base\",how=\"left\")\n",
    "df_pre_cupom.columns=['Taxa Pre2023_c','PU Pre2023_c','Taxa Pre2025_c','PU Pre2025_c','Taxa Pre2027_c','PU Pre2027_c','Taxa Pre2029_c','PU Pre2029_c','Taxa Pre2031_c','PU Pre20231_c','Taxa Pre2033_c','PU Pre2033_c']\n",
    "df_pre_cupom=df_pre_cupom.sort_index()\n",
    "df_pre_cupom\n",
    "\n",
    "#Titulos IPCA+ com Cupom\n",
    "df_ipca_cupom=pd.merge(pd.merge(pd.merge(pd.merge(pd.merge(pd.merge(pd.merge(pd.merge(ipca2024_cupom,ipca2026_cupom,on=\"Data Base\",how=\"left\"),ipca2030_cupom,on=\"Data Base\",how=\"left\"),ipca2032_cupom,on=\"Data Base\",how=\"left\"),ipca2035_cupom,on=\"Data Base\",how=\"left\"),ipca2040_cupom,on=\"Data Base\",how=\"left\"),ipca2045_cupom,on=\"Data Base\",how=\"left\"),ipca2050_cupom,on=\"Data Base\",how=\"left\"),ipca2055_cupom,on=\"Data Base\",how=\"left\")\n",
    "df_ipca_cupom.columns=['Taxa ipca2024_c','PU ipca2024_c','Taxa ipca2026_c','PU ipca2026_c','Taxa ipca2030_c','PU ipca2030_c','Taxa ipca2032_c','PU ipca2032_c','Taxa ipca2035_c','PU ipca2035_c','Taxa ipca2040_c','PU ipca2040_c','Taxa ipca2045_c','PU ipca2045_c','Taxa ipca2050_c','PU ipca2050_c','Taxa ipca2055_c','PU ipca2055_c']\n",
    "df_ipca_cupom=df_ipca_cupom.sort_index()\n",
    "df_ipca_cupom\n",
    "\n",
    "#Titulos IPCA+ \n",
    "df_ipca=pd.merge(pd.merge(pd.merge(ipca2024,ipca2026,on=\"Data Base\",how=\"left\"),ipca2035,on=\"Data Base\",how=\"left\"),ipca2045,on=\"Data Base\",how=\"left\")\n",
    "df_ipca.columns=['Taxa ipca2024','PU ipca2024','Taxa ipca2026','PU ipca2026','Taxa ipca2035','PU ipca2035','Taxa ipca2045','PU ipca2045']\n",
    "df_ipca=df_ipca.sort_index()\n",
    "df_ipca\n",
    "\n",
    "#Juntando todos os titulos em um dataframa\n",
    "df_completo=pd.merge(pd.merge(pd.merge(df_pre,df_pre_cupom,on=\"Data Base\", how='left'),df_ipca_cupom,on=\"Data Base\", how='left'),df_ipca,on=\"Data Base\", how='left')\n",
    "df_completo=df_completo.sort_index(ascending=False)\n",
    "df_completo.to_excel(\"Dados do tesouro completo.xlsx\")"
   ]
  },
  {
   "cell_type": "code",
   "execution_count": null,
   "metadata": {},
   "outputs": [],
   "source": [
    "#Plotando IPCA+\n",
    "plt.figure(figsize=(18,12))\n",
    "plt.plot(df_ipca[\"Taxa ipca2024\"], label=\"IPCA 2024\")\n",
    "plt.plot(df_ipca[\"Taxa ipca2026\"], label=\"IPCA 2026\")\n",
    "plt.plot(df_ipca[\"Taxa ipca2035\"], label=\"IPCA 2035\")\n",
    "plt.plot(df_ipca[\"Taxa ipca2045\"], label=\"IPCA 2045\")\n",
    "plt.legend()\n",
    "#plt.ylabel(set_major_formatter(StrMethodFormatter('{x:,.2f}')))\n",
    "plt.title('IPCA')"
   ]
  },
  {
   "cell_type": "code",
   "execution_count": null,
   "metadata": {},
   "outputs": [],
   "source": [
    "#Plotando IPCA+ com Cupom\n",
    "plt.figure(figsize=(18,12))\n",
    "plt.plot(df_ipca_cupom[\"Taxa ipca2024_c\"], label=\"IPCA Cupom 2024\")\n",
    "plt.plot(df_ipca_cupom[\"Taxa ipca2026_c\"], label=\"IPCA Cupom 2026\")\n",
    "plt.plot(df_ipca_cupom[\"Taxa ipca2030_c\"], label=\"IPCA Cupom 2030\")\n",
    "plt.plot(df_ipca_cupom[\"Taxa ipca2032_c\"], label=\"IPCA Cupom 2032\")\n",
    "plt.plot(df_ipca_cupom[\"Taxa ipca2035_c\"], label=\"IPCA Cupom 2035\")\n",
    "plt.plot(df_ipca_cupom[\"Taxa ipca2040_c\"], label=\"IPCA Cupom 2040\")\n",
    "plt.plot(df_ipca_cupom[\"Taxa ipca2045_c\"], label=\"IPCA Cupom 2045\")\n",
    "plt.plot(df_ipca_cupom[\"Taxa ipca2050_c\"], label=\"IPCA Cupom 2050\")\n",
    "plt.plot(df_ipca_cupom[\"Taxa ipca2055_c\"], label=\"IPCA Cupom 2055\")\n",
    "plt.legend()\n",
    "#plt.ylabel(set_major_formatter(StrMethodFormatter('{x:,.2f}')))\n",
    "plt.title('IPCA Cupom')"
   ]
  },
  {
   "cell_type": "code",
   "execution_count": null,
   "metadata": {},
   "outputs": [],
   "source": [
    "#Plotando Pré Fixado\n",
    "plt.figure(figsize=(18,12))\n",
    "plt.plot(df_pre[\"Taxa Pre2023\"], label=\"Pre 2023\")\n",
    "plt.plot(df_pre[\"Taxa Pre2024\"], label=\"Pre 2024\")\n",
    "plt.plot(df_pre[\"Taxa Pre2025\"], label=\"Pre 2025\")\n",
    "plt.plot(df_pre[\"Taxa Pre2026\"], label=\"Pre 2026\")\n",
    "plt.plot(df_pre[\"Taxa Pre2029\"], label=\"Pre 2029\")\n",
    "plt.legend()\n",
    "#plt.ylabel(set_major_formatter(StrMethodFormatter('{x:,.2f}')))\n",
    "plt.title('PRE')"
   ]
  },
  {
   "cell_type": "code",
   "execution_count": null,
   "metadata": {},
   "outputs": [],
   "source": [
    "#Plotando Pré Fixado com Cupom \n",
    "plt.figure(figsize=(18,12))\n",
    "plt.plot(df_pre_cupom[\"Taxa Pre2023_c\"], label=\"Pre 2023\")\n",
    "plt.plot(df_pre_cupom[\"Taxa Pre2025_c\"], label=\"Pre 2025\")\n",
    "plt.plot(df_pre_cupom[\"Taxa Pre2027_c\"], label=\"Pre 2027\")\n",
    "plt.plot(df_pre_cupom[\"Taxa Pre2029_c\"], label=\"Pre 2029\")\n",
    "plt.plot(df_pre_cupom[\"Taxa Pre2031_c\"], label=\"Pre 2031\")\n",
    "plt.plot(df_pre_cupom[\"Taxa Pre2033_c\"], label=\"Pre 2033\")\n",
    "plt.legend()\n",
    "#plt.ylabel(set_major_formatter(StrMethodFormatter('{x:,.2f}')))\n",
    "plt.title('PRE Cupom')"
   ]
  }
 ],
 "metadata": {
  "kernelspec": {
   "display_name": "Python 3.10.6 64-bit",
   "language": "python",
   "name": "python3"
  },
  "language_info": {
   "codemirror_mode": {
    "name": "ipython",
    "version": 3
   },
   "file_extension": ".py",
   "mimetype": "text/x-python",
   "name": "python",
   "nbconvert_exporter": "python",
   "pygments_lexer": "ipython3",
   "version": "3.10.6"
  },
  "orig_nbformat": 4,
  "vscode": {
   "interpreter": {
    "hash": "4499642fe133e37f0e3686d90eabe57f69e2cee00a5cba20e5ed12f01ff061c5"
   }
  }
 },
 "nbformat": 4,
 "nbformat_minor": 2
}
