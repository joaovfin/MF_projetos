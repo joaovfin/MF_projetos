{
 "cells": [
  {
   "cell_type": "code",
   "execution_count": 59,
   "metadata": {},
   "outputs": [],
   "source": [
    "#Importando bibliotecas\n",
    "import numpy as np\n",
    "from pandas import ExcelWriter\n",
    "from pandas_datareader import data as pdr\n",
    "import yfinance as yf\n",
    "import datetime as dt\n",
    "from yahoo_fin import stock_info as si\n",
    "import pandas as pd\n",
    "import statsmodels\n",
    "import statsmodels.api as sm\n",
    "from statsmodels.tsa.stattools import coint\n",
    "\n",
    "pd.set_option('display.max_rows', None)\n",
    "warnings.filterwarnings(\"ignore\")\n",
    "yf.pdr_override()"
   ]
  },
  {
   "cell_type": "code",
   "execution_count": 52,
   "metadata": {},
   "outputs": [],
   "source": [
    "def dfs_tabs(df_list, sheet_list, file_name):\n",
    "    writer = pd.ExcelWriter(file_name,engine='xlsxwriter')   \n",
    "    for dataframe, sheet in zip(df_list, sheet_list):\n",
    "        dataframe.to_excel(writer, sheet_name=sheet, startrow=0 , startcol=0)   \n",
    "    writer.save()\n"
   ]
  },
  {
   "cell_type": "code",
   "execution_count": 12,
   "metadata": {},
   "outputs": [],
   "source": [
    "#Periodo selecionado para baixar os dados\n",
    "num_of_years = 1\n",
    "start = dt.date.today() - dt.timedelta(days = int(365*num_of_years))\n",
    "end = dt.date.today()"
   ]
  },
  {
   "cell_type": "code",
   "execution_count": null,
   "metadata": {},
   "outputs": [],
   "source": [
    "#Buscando os tickers dos ativos\n",
    "tickers=['AALR3.SA','ABCB4.SA',\t'ABEV3.SA',\t'AERI3.SA',\t'AESB3.SA',\t'AGRO3.SA',\t'AGXY3.SA',\t'ALPA3.SA',\t'ALPA4.SA',\t'ALSO3.SA',\t'ALUP11.SA',\t'AMAR3.SA',\t'AMBP3.SA',\t'AMER3.SA',\t'ANIM3.SA',\t'ARML3.SA',\t'ARZZ3.SA',\t'ASAI3.SA',\t'AURA33.SA',\t'AZUL4.SA',\t'B3SA3.SA',\t'BBAS3.SA',\t'BBDC3.SA',\t'BBDC4.SA',\t'BBSE3.SA',\t'BEEF3.SA',\t'BKBR3.SA',\t'BLAU3.SA',\t'BMOB3.SA',\t'BOAS3.SA',\t'BPAC11.SA',\t'BPAN4.SA',\t'BRAP3.SA',\t'BRAP4.SA',\t'BRFS3.SA',\t'BRIT3.SA',\t'BRKM5.SA',\t'BRML3.SA',\t'BRPR3.SA',\t'BRSR6.SA',\t'CAMB3.SA',\t'CAML3.SA',\t'CASH3.SA',\t'CBAV3.SA',\t'CCRO3.SA',\t'CEAB3.SA',\t'CGRA4.SA',\t'CIEL3.SA',\t'CLSC4.SA',\t'CMIG3.SA',\t'CMIG4.SA',\t'CMIN3.SA',\t'COGN3.SA',\t'CPFE3.SA',\t'CPLE11.SA',\t'CPLE3.SA',\t'CPLE6.SA',\t'CRFB3.SA',\t'CSAN3.SA',\t'CSED3.SA',\t'CSMG3.SA',\t'CSNA3.SA',\t'CURY3.SA',\t'CVCB3.SA',\t'CXSE3.SA',\t'CYRE3.SA',\t'DASA3.SA',\t'DESK3.SA',\t'DIRR3.SA',\t'DMMO3.SA',\t'DMVF3.SA',\t'DOTZ3.SA',\t'DXCO3.SA',\t'EALT4.SA',\t'ECOR3.SA',\t'EGIE3.SA',\t'ELET3.SA',\t'ELET6.SA',\t'ELMD3.SA',\t'EMBR3.SA',\t'ENAT3.SA',\t'ENBR3.SA',\t'ENEV3.SA',\t'ENGI11.SA',\t'ENGI3.SA',\t'ENGI4.SA',\t'ENJU3.SA',\t'EQTL3.SA',\t'ESPA3.SA',\t'ETER3.SA',\t'EUCA4.SA',\t'EVEN3.SA',\t'EZTC3.SA',\t'FESA4.SA',\t'FHER3.SA',\t'FLRY3.SA',\t'FRAS3.SA',\t'GFSA3.SA',\t'GGBR3.SA',\t'GGBR4.SA',\t'GGPS3.SA',\t'GMAT3.SA',\t'GOAU3.SA',\t'GOAU4.SA',\t'GOLL4.SA',\t'GRND3.SA',\t'GUAR3.SA',\t'HAPV3.SA',\t'HBOR3.SA',\t'HBRE3.SA',\t'HBSA3.SA',\t'HYPE3.SA',\t'IGTI3.SA',\t'INEP3.SA',\t'INEP4.SA',\t'INTB3.SA',\t'IRBR3.SA',\t'ITSA3.SA',\t'ITSA4.SA',\t'ITUB3.SA',\t'ITUB4.SA',\t'JALL3.SA',\t'JBSS3.SA',\t'JHSF3.SA',\t'JSLG3.SA',\t'KEPL3.SA',\t'KLBN11.SA',\t'KLBN3.SA',\t'KLBN4.SA',\t'LAVV3.SA',\t'LEVE3.SA',\t'LIGT3.SA',\t'LJQQ3.SA',\t'LOGG3.SA',\t'LOGN3.SA',\t'LREN3.SA',\t'LUPA3.SA',\t'LWSA3.SA',\t'MDIA3.SA',\t'MDNE3.SA',\t'MEAL3.SA',\t'MGLU3.SA',\t'MILS3.SA',\t'MLAS3.SA',\t'MOVI3.SA',\t'MRFG3.SA',\t'MRVE3.SA',\t'MTRE3.SA',\t'MULT3.SA',\t'MYPK3.SA',\t'NEOE3.SA',\t'NGRD3.SA',\t'NINJ3.SA',\t'NTCO3.SA',\t'ODPV3.SA',\t'ONCO3.SA',\t'ORVR3.SA',\t'PCAR3.SA',\t'PETR3.SA',\t'PETR4.SA',\t'PETZ3.SA',\t'PFRM3.SA',\t'PGMN3.SA',\t'PINE4.SA',\t'PLPL3.SA',\t'PMAM3.SA',\t'PNVL3.SA',\t'POMO4.SA',\t'POSI3.SA',\t'PRIO3.SA',\t'PSSA3.SA',\t'PTBL3.SA',\t'QUAL3.SA',\t'RADL3.SA',\t'RAIL3.SA',\t'RAIZ4.SA',\t'RANI3.SA',\t'RAPT4.SA',\t'RDOR3.SA',\t'RECV3.SA',\t'RENT3.SA',\t'RNEW4.SA',\t'ROMI3.SA',\t'RRRP3.SA',\t'RSID3.SA',\t'SANB11.SA',\t'SANB3.SA',\t'SANB4.SA',\t'SAPR11.SA',\t'SAPR3.SA',\t'SAPR4.SA',\t'SBFG3.SA',\t'SBSP3.SA',\t'SEER3.SA',\t'SEQL3.SA',\t'SGPS3.SA',\t'SHOW3.SA',\t'SHUL4.SA',\t'SIMH3.SA',\t'SLCE3.SA',\t'SMFT3.SA',\t'SMTO3.SA',\t'SOJA3.SA',\t'SOMA3.SA',\t'SQIA3.SA',\t'STBP3.SA',\t'SULA11.SA',\t'SUZB3.SA',\t'TAEE11.SA',\t'TAEE3.SA',\t'TAEE4.SA',\t'TASA3.SA',\t'TASA4.SA',\t'TCSA3.SA',\t'TECN3.SA',\t'TEND3.SA',\t'TGMA3.SA',\t'TIMS3.SA',\t'TOTS3.SA',\t'TPIS3.SA',\t'TRAD3.SA',\t'TRIS3.SA',\t'TRPL4.SA',\t'TTEN3.SA',\t'TUPY3.SA',\t'UGPA3.SA',\t'UNIP3.SA',\t'UNIP6.SA',\t'USIM5.SA',\t'USIM3.SA',\t'VALE3.SA',\t'VAMO3.SA',\t'VBBR3.SA',\t'VIIA3.SA',\t'VIVA3.SA',\t'VIVT3.SA',\t'VLID3.SA',\t'VULC3.SA',\t'VVEO3.SA',\t'WEGE3.SA',\t'WEST3.SA',\t'WIZS3.SA',\t'YDUQ3.SA',\t'^BVSP']\n",
    "\n",
    "#Baixando nosso dataset conforme os parametros passados\n",
    "precos = pdr.get_data_yahoo(tickers, start, end)['Adj Close']\n",
    "\n",
    "#Invertendo o Dataset (Cotação mais recente por primeiro)\n",
    "precos=(precos.iloc[::-1]).dropna()\n",
    "\n",
    "#Calculando o retorno dos ativos\n",
    "precos=pd.DataFrame(precos)\n",
    "retorno=((precos/precos.shift(1))-1).dropna()\n",
    "\n",
    "retorno"
   ]
  },
  {
   "cell_type": "code",
   "execution_count": 65,
   "metadata": {},
   "outputs": [],
   "source": [
    "#Salvando em Excel o histórico de preços e retornos\n",
    "writer = ExcelWriter('Cotações e Retornos.xlsx')\n",
    "for n, df in enumerate(dfs):\n",
    "    df.to_excel(writer, 'Sheet%s' % str(n + 1))\n",
    "writer.save()"
   ]
  }
 ],
 "metadata": {
  "kernelspec": {
   "display_name": "Python 3.10.6 64-bit",
   "language": "python",
   "name": "python3"
  },
  "language_info": {
   "codemirror_mode": {
    "name": "ipython",
    "version": 3
   },
   "file_extension": ".py",
   "mimetype": "text/x-python",
   "name": "python",
   "nbconvert_exporter": "python",
   "pygments_lexer": "ipython3",
   "version": "3.10.6"
  },
  "orig_nbformat": 4,
  "vscode": {
   "interpreter": {
    "hash": "4499642fe133e37f0e3686d90eabe57f69e2cee00a5cba20e5ed12f01ff061c5"
   }
  }
 },
 "nbformat": 4,
 "nbformat_minor": 2
}
